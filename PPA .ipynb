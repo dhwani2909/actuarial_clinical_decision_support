{
 "cells": [
  {
   "cell_type": "code",
   "execution_count": 2,
   "id": "65cd72f8",
   "metadata": {},
   "outputs": [],
   "source": [
    "import numpy as np\n",
    "import pandas as pd"
   ]
  },
  {
   "cell_type": "code",
   "execution_count": 3,
   "id": "e27615f0",
   "metadata": {},
   "outputs": [],
   "source": [
    "date = pd.read_csv(\"/Users/u1417772/Desktop/Cotiviti/ACDS/Dataset/Sruthica/dim_date.csv\")\n",
    "bridge = pd.read_csv(\"/Users/u1417772/Desktop/Cotiviti/ACDS/Dataset/Sruthica/bridge.csv\")\n",
    "claims = pd.read_csv(\"/Users/u1417772/Desktop/Cotiviti/ACDS/Dataset/Sruthica/dim_claims.csv\")\n",
    "priorauth = pd.read_csv(\"/Users/u1417772/Desktop/Cotiviti/ACDS/Dataset/Sruthica/dim_pa.csv\") "
   ]
  },
  {
   "cell_type": "code",
   "execution_count": 4,
   "id": "ed67b90d",
   "metadata": {},
   "outputs": [
    {
     "data": {
      "text/html": [
       "<div>\n",
       "<style scoped>\n",
       "    .dataframe tbody tr th:only-of-type {\n",
       "        vertical-align: middle;\n",
       "    }\n",
       "\n",
       "    .dataframe tbody tr th {\n",
       "        vertical-align: top;\n",
       "    }\n",
       "\n",
       "    .dataframe thead th {\n",
       "        text-align: right;\n",
       "    }\n",
       "</style>\n",
       "<table border=\"1\" class=\"dataframe\">\n",
       "  <thead>\n",
       "    <tr style=\"text-align: right;\">\n",
       "      <th></th>\n",
       "      <th>dim_date_id</th>\n",
       "      <th>date_val</th>\n",
       "      <th>calendar_year</th>\n",
       "      <th>calendar_month</th>\n",
       "      <th>calendar_day</th>\n",
       "      <th>day_of_week</th>\n",
       "      <th>is_weekday</th>\n",
       "      <th>is_workday</th>\n",
       "      <th>is_holiday</th>\n",
       "    </tr>\n",
       "  </thead>\n",
       "  <tbody>\n",
       "    <tr>\n",
       "      <th>0</th>\n",
       "      <td>1</td>\n",
       "      <td>2017-01-01</td>\n",
       "      <td>2017</td>\n",
       "      <td>1</td>\n",
       "      <td>1</td>\n",
       "      <td>1</td>\n",
       "      <td>0</td>\n",
       "      <td>0</td>\n",
       "      <td>1</td>\n",
       "    </tr>\n",
       "    <tr>\n",
       "      <th>1</th>\n",
       "      <td>2</td>\n",
       "      <td>2017-01-02</td>\n",
       "      <td>2017</td>\n",
       "      <td>1</td>\n",
       "      <td>2</td>\n",
       "      <td>2</td>\n",
       "      <td>1</td>\n",
       "      <td>0</td>\n",
       "      <td>0</td>\n",
       "    </tr>\n",
       "    <tr>\n",
       "      <th>2</th>\n",
       "      <td>3</td>\n",
       "      <td>2017-01-03</td>\n",
       "      <td>2017</td>\n",
       "      <td>1</td>\n",
       "      <td>3</td>\n",
       "      <td>3</td>\n",
       "      <td>1</td>\n",
       "      <td>1</td>\n",
       "      <td>0</td>\n",
       "    </tr>\n",
       "    <tr>\n",
       "      <th>3</th>\n",
       "      <td>4</td>\n",
       "      <td>2017-01-04</td>\n",
       "      <td>2017</td>\n",
       "      <td>1</td>\n",
       "      <td>4</td>\n",
       "      <td>4</td>\n",
       "      <td>1</td>\n",
       "      <td>1</td>\n",
       "      <td>0</td>\n",
       "    </tr>\n",
       "    <tr>\n",
       "      <th>4</th>\n",
       "      <td>5</td>\n",
       "      <td>2017-01-05</td>\n",
       "      <td>2017</td>\n",
       "      <td>1</td>\n",
       "      <td>5</td>\n",
       "      <td>5</td>\n",
       "      <td>1</td>\n",
       "      <td>1</td>\n",
       "      <td>0</td>\n",
       "    </tr>\n",
       "  </tbody>\n",
       "</table>\n",
       "</div>"
      ],
      "text/plain": [
       "   dim_date_id    date_val  calendar_year  calendar_month  calendar_day  \\\n",
       "0            1  2017-01-01           2017               1             1   \n",
       "1            2  2017-01-02           2017               1             2   \n",
       "2            3  2017-01-03           2017               1             3   \n",
       "3            4  2017-01-04           2017               1             4   \n",
       "4            5  2017-01-05           2017               1             5   \n",
       "\n",
       "   day_of_week  is_weekday  is_workday  is_holiday  \n",
       "0            1           0           0           1  \n",
       "1            2           1           0           0  \n",
       "2            3           1           1           0  \n",
       "3            4           1           1           0  \n",
       "4            5           1           1           0  "
      ]
     },
     "execution_count": 4,
     "metadata": {},
     "output_type": "execute_result"
    }
   ],
   "source": [
    "date.head(5)"
   ]
  },
  {
   "cell_type": "code",
   "execution_count": 5,
   "id": "56491f7b",
   "metadata": {},
   "outputs": [
    {
     "data": {
      "text/html": [
       "<div>\n",
       "<style scoped>\n",
       "    .dataframe tbody tr th:only-of-type {\n",
       "        vertical-align: middle;\n",
       "    }\n",
       "\n",
       "    .dataframe tbody tr th {\n",
       "        vertical-align: top;\n",
       "    }\n",
       "\n",
       "    .dataframe thead th {\n",
       "        text-align: right;\n",
       "    }\n",
       "</style>\n",
       "<table border=\"1\" class=\"dataframe\">\n",
       "  <thead>\n",
       "    <tr style=\"text-align: right;\">\n",
       "      <th></th>\n",
       "      <th>dim_claim_id</th>\n",
       "      <th>dim_pa_id</th>\n",
       "      <th>dim_date_id</th>\n",
       "    </tr>\n",
       "  </thead>\n",
       "  <tbody>\n",
       "    <tr>\n",
       "      <th>0</th>\n",
       "      <td>1</td>\n",
       "      <td>1.0</td>\n",
       "      <td>1</td>\n",
       "    </tr>\n",
       "    <tr>\n",
       "      <th>1</th>\n",
       "      <td>2</td>\n",
       "      <td>NaN</td>\n",
       "      <td>1</td>\n",
       "    </tr>\n",
       "    <tr>\n",
       "      <th>2</th>\n",
       "      <td>3</td>\n",
       "      <td>2.0</td>\n",
       "      <td>1</td>\n",
       "    </tr>\n",
       "    <tr>\n",
       "      <th>3</th>\n",
       "      <td>4</td>\n",
       "      <td>NaN</td>\n",
       "      <td>1</td>\n",
       "    </tr>\n",
       "    <tr>\n",
       "      <th>4</th>\n",
       "      <td>5</td>\n",
       "      <td>NaN</td>\n",
       "      <td>1</td>\n",
       "    </tr>\n",
       "  </tbody>\n",
       "</table>\n",
       "</div>"
      ],
      "text/plain": [
       "   dim_claim_id  dim_pa_id  dim_date_id\n",
       "0             1        1.0            1\n",
       "1             2        NaN            1\n",
       "2             3        2.0            1\n",
       "3             4        NaN            1\n",
       "4             5        NaN            1"
      ]
     },
     "execution_count": 5,
     "metadata": {},
     "output_type": "execute_result"
    }
   ],
   "source": [
    "bridge.head(5)"
   ]
  },
  {
   "cell_type": "code",
   "execution_count": 6,
   "id": "a3178756",
   "metadata": {},
   "outputs": [
    {
     "data": {
      "text/html": [
       "<div>\n",
       "<style scoped>\n",
       "    .dataframe tbody tr th:only-of-type {\n",
       "        vertical-align: middle;\n",
       "    }\n",
       "\n",
       "    .dataframe tbody tr th {\n",
       "        vertical-align: top;\n",
       "    }\n",
       "\n",
       "    .dataframe thead th {\n",
       "        text-align: right;\n",
       "    }\n",
       "</style>\n",
       "<table border=\"1\" class=\"dataframe\">\n",
       "  <thead>\n",
       "    <tr style=\"text-align: right;\">\n",
       "      <th></th>\n",
       "      <th>dim_claim_id</th>\n",
       "      <th>bin</th>\n",
       "      <th>drug</th>\n",
       "      <th>reject_code</th>\n",
       "      <th>pharmacy_claim_approved</th>\n",
       "    </tr>\n",
       "  </thead>\n",
       "  <tbody>\n",
       "    <tr>\n",
       "      <th>0</th>\n",
       "      <td>1</td>\n",
       "      <td>417380</td>\n",
       "      <td>A</td>\n",
       "      <td>75.0</td>\n",
       "      <td>0</td>\n",
       "    </tr>\n",
       "    <tr>\n",
       "      <th>1</th>\n",
       "      <td>2</td>\n",
       "      <td>999001</td>\n",
       "      <td>A</td>\n",
       "      <td>NaN</td>\n",
       "      <td>1</td>\n",
       "    </tr>\n",
       "    <tr>\n",
       "      <th>2</th>\n",
       "      <td>3</td>\n",
       "      <td>417740</td>\n",
       "      <td>A</td>\n",
       "      <td>76.0</td>\n",
       "      <td>0</td>\n",
       "    </tr>\n",
       "    <tr>\n",
       "      <th>3</th>\n",
       "      <td>4</td>\n",
       "      <td>999001</td>\n",
       "      <td>A</td>\n",
       "      <td>NaN</td>\n",
       "      <td>1</td>\n",
       "    </tr>\n",
       "    <tr>\n",
       "      <th>4</th>\n",
       "      <td>5</td>\n",
       "      <td>417740</td>\n",
       "      <td>A</td>\n",
       "      <td>NaN</td>\n",
       "      <td>1</td>\n",
       "    </tr>\n",
       "  </tbody>\n",
       "</table>\n",
       "</div>"
      ],
      "text/plain": [
       "   dim_claim_id     bin drug  reject_code  pharmacy_claim_approved\n",
       "0             1  417380    A         75.0                        0\n",
       "1             2  999001    A          NaN                        1\n",
       "2             3  417740    A         76.0                        0\n",
       "3             4  999001    A          NaN                        1\n",
       "4             5  417740    A          NaN                        1"
      ]
     },
     "execution_count": 6,
     "metadata": {},
     "output_type": "execute_result"
    }
   ],
   "source": [
    "claims.head()\n"
   ]
  },
  {
   "cell_type": "code",
   "execution_count": 7,
   "id": "64c77f23",
   "metadata": {},
   "outputs": [
    {
     "data": {
      "text/html": [
       "<div>\n",
       "<style scoped>\n",
       "    .dataframe tbody tr th:only-of-type {\n",
       "        vertical-align: middle;\n",
       "    }\n",
       "\n",
       "    .dataframe tbody tr th {\n",
       "        vertical-align: top;\n",
       "    }\n",
       "\n",
       "    .dataframe thead th {\n",
       "        text-align: right;\n",
       "    }\n",
       "</style>\n",
       "<table border=\"1\" class=\"dataframe\">\n",
       "  <thead>\n",
       "    <tr style=\"text-align: right;\">\n",
       "      <th></th>\n",
       "      <th>dim_pa_id</th>\n",
       "      <th>correct_diagnosis</th>\n",
       "      <th>tried_and_failed</th>\n",
       "      <th>contraindication</th>\n",
       "      <th>pa_approved</th>\n",
       "    </tr>\n",
       "  </thead>\n",
       "  <tbody>\n",
       "    <tr>\n",
       "      <th>0</th>\n",
       "      <td>1</td>\n",
       "      <td>1</td>\n",
       "      <td>1</td>\n",
       "      <td>0</td>\n",
       "      <td>1</td>\n",
       "    </tr>\n",
       "    <tr>\n",
       "      <th>1</th>\n",
       "      <td>2</td>\n",
       "      <td>1</td>\n",
       "      <td>0</td>\n",
       "      <td>0</td>\n",
       "      <td>1</td>\n",
       "    </tr>\n",
       "    <tr>\n",
       "      <th>2</th>\n",
       "      <td>3</td>\n",
       "      <td>0</td>\n",
       "      <td>0</td>\n",
       "      <td>1</td>\n",
       "      <td>1</td>\n",
       "    </tr>\n",
       "    <tr>\n",
       "      <th>3</th>\n",
       "      <td>4</td>\n",
       "      <td>1</td>\n",
       "      <td>1</td>\n",
       "      <td>0</td>\n",
       "      <td>1</td>\n",
       "    </tr>\n",
       "    <tr>\n",
       "      <th>4</th>\n",
       "      <td>5</td>\n",
       "      <td>0</td>\n",
       "      <td>1</td>\n",
       "      <td>0</td>\n",
       "      <td>1</td>\n",
       "    </tr>\n",
       "  </tbody>\n",
       "</table>\n",
       "</div>"
      ],
      "text/plain": [
       "   dim_pa_id  correct_diagnosis  tried_and_failed  contraindication  \\\n",
       "0          1                  1                 1                 0   \n",
       "1          2                  1                 0                 0   \n",
       "2          3                  0                 0                 1   \n",
       "3          4                  1                 1                 0   \n",
       "4          5                  0                 1                 0   \n",
       "\n",
       "   pa_approved  \n",
       "0            1  \n",
       "1            1  \n",
       "2            1  \n",
       "3            1  \n",
       "4            1  "
      ]
     },
     "execution_count": 7,
     "metadata": {},
     "output_type": "execute_result"
    }
   ],
   "source": [
    "priorauth.head()"
   ]
  },
  {
   "cell_type": "code",
   "execution_count": 8,
   "id": "58dea1d7",
   "metadata": {},
   "outputs": [],
   "source": [
    "# There is no way to bridge all the columns\n",
    "# dim_date_id is corrupted in bridge no way to map it to date and claims tables"
   ]
  },
  {
   "cell_type": "code",
   "execution_count": 9,
   "id": "2804debd",
   "metadata": {},
   "outputs": [],
   "source": [
    "bridge_claims = bridge.merge(claims, how='right',\n",
    "                      left_on='dim_claim_id', \n",
    "                       right_on='dim_claim_id')"
   ]
  },
  {
   "cell_type": "code",
   "execution_count": 10,
   "id": "f6e4268f",
   "metadata": {},
   "outputs": [
    {
     "data": {
      "text/html": [
       "<div>\n",
       "<style scoped>\n",
       "    .dataframe tbody tr th:only-of-type {\n",
       "        vertical-align: middle;\n",
       "    }\n",
       "\n",
       "    .dataframe tbody tr th {\n",
       "        vertical-align: top;\n",
       "    }\n",
       "\n",
       "    .dataframe thead th {\n",
       "        text-align: right;\n",
       "    }\n",
       "</style>\n",
       "<table border=\"1\" class=\"dataframe\">\n",
       "  <thead>\n",
       "    <tr style=\"text-align: right;\">\n",
       "      <th></th>\n",
       "      <th>dim_claim_id</th>\n",
       "      <th>dim_pa_id</th>\n",
       "      <th>dim_date_id</th>\n",
       "      <th>bin</th>\n",
       "      <th>drug</th>\n",
       "      <th>reject_code</th>\n",
       "      <th>pharmacy_claim_approved</th>\n",
       "    </tr>\n",
       "  </thead>\n",
       "  <tbody>\n",
       "    <tr>\n",
       "      <th>0</th>\n",
       "      <td>1</td>\n",
       "      <td>1.0</td>\n",
       "      <td>1</td>\n",
       "      <td>417380</td>\n",
       "      <td>A</td>\n",
       "      <td>75.0</td>\n",
       "      <td>0</td>\n",
       "    </tr>\n",
       "    <tr>\n",
       "      <th>1</th>\n",
       "      <td>2</td>\n",
       "      <td>NaN</td>\n",
       "      <td>1</td>\n",
       "      <td>999001</td>\n",
       "      <td>A</td>\n",
       "      <td>NaN</td>\n",
       "      <td>1</td>\n",
       "    </tr>\n",
       "    <tr>\n",
       "      <th>2</th>\n",
       "      <td>3</td>\n",
       "      <td>2.0</td>\n",
       "      <td>1</td>\n",
       "      <td>417740</td>\n",
       "      <td>A</td>\n",
       "      <td>76.0</td>\n",
       "      <td>0</td>\n",
       "    </tr>\n",
       "    <tr>\n",
       "      <th>3</th>\n",
       "      <td>4</td>\n",
       "      <td>NaN</td>\n",
       "      <td>1</td>\n",
       "      <td>999001</td>\n",
       "      <td>A</td>\n",
       "      <td>NaN</td>\n",
       "      <td>1</td>\n",
       "    </tr>\n",
       "    <tr>\n",
       "      <th>4</th>\n",
       "      <td>5</td>\n",
       "      <td>NaN</td>\n",
       "      <td>1</td>\n",
       "      <td>417740</td>\n",
       "      <td>A</td>\n",
       "      <td>NaN</td>\n",
       "      <td>1</td>\n",
       "    </tr>\n",
       "    <tr>\n",
       "      <th>...</th>\n",
       "      <td>...</td>\n",
       "      <td>...</td>\n",
       "      <td>...</td>\n",
       "      <td>...</td>\n",
       "      <td>...</td>\n",
       "      <td>...</td>\n",
       "      <td>...</td>\n",
       "    </tr>\n",
       "    <tr>\n",
       "      <th>1335571</th>\n",
       "      <td>1335572</td>\n",
       "      <td>555950.0</td>\n",
       "      <td>1095</td>\n",
       "      <td>417740</td>\n",
       "      <td>C</td>\n",
       "      <td>75.0</td>\n",
       "      <td>0</td>\n",
       "    </tr>\n",
       "    <tr>\n",
       "      <th>1335572</th>\n",
       "      <td>1335573</td>\n",
       "      <td>NaN</td>\n",
       "      <td>1095</td>\n",
       "      <td>999001</td>\n",
       "      <td>C</td>\n",
       "      <td>NaN</td>\n",
       "      <td>1</td>\n",
       "    </tr>\n",
       "    <tr>\n",
       "      <th>1335573</th>\n",
       "      <td>1335574</td>\n",
       "      <td>555951.0</td>\n",
       "      <td>1095</td>\n",
       "      <td>417380</td>\n",
       "      <td>C</td>\n",
       "      <td>70.0</td>\n",
       "      <td>0</td>\n",
       "    </tr>\n",
       "    <tr>\n",
       "      <th>1335574</th>\n",
       "      <td>1335575</td>\n",
       "      <td>NaN</td>\n",
       "      <td>1095</td>\n",
       "      <td>999001</td>\n",
       "      <td>C</td>\n",
       "      <td>NaN</td>\n",
       "      <td>1</td>\n",
       "    </tr>\n",
       "    <tr>\n",
       "      <th>1335575</th>\n",
       "      <td>1335576</td>\n",
       "      <td>NaN</td>\n",
       "      <td>1095</td>\n",
       "      <td>999001</td>\n",
       "      <td>C</td>\n",
       "      <td>NaN</td>\n",
       "      <td>1</td>\n",
       "    </tr>\n",
       "  </tbody>\n",
       "</table>\n",
       "<p>1335576 rows × 7 columns</p>\n",
       "</div>"
      ],
      "text/plain": [
       "         dim_claim_id  dim_pa_id  dim_date_id     bin drug  reject_code  \\\n",
       "0                   1        1.0            1  417380    A         75.0   \n",
       "1                   2        NaN            1  999001    A          NaN   \n",
       "2                   3        2.0            1  417740    A         76.0   \n",
       "3                   4        NaN            1  999001    A          NaN   \n",
       "4                   5        NaN            1  417740    A          NaN   \n",
       "...               ...        ...          ...     ...  ...          ...   \n",
       "1335571       1335572   555950.0         1095  417740    C         75.0   \n",
       "1335572       1335573        NaN         1095  999001    C          NaN   \n",
       "1335573       1335574   555951.0         1095  417380    C         70.0   \n",
       "1335574       1335575        NaN         1095  999001    C          NaN   \n",
       "1335575       1335576        NaN         1095  999001    C          NaN   \n",
       "\n",
       "         pharmacy_claim_approved  \n",
       "0                              0  \n",
       "1                              1  \n",
       "2                              0  \n",
       "3                              1  \n",
       "4                              1  \n",
       "...                          ...  \n",
       "1335571                        0  \n",
       "1335572                        1  \n",
       "1335573                        0  \n",
       "1335574                        1  \n",
       "1335575                        1  \n",
       "\n",
       "[1335576 rows x 7 columns]"
      ]
     },
     "execution_count": 10,
     "metadata": {},
     "output_type": "execute_result"
    }
   ],
   "source": [
    "bridge_claims"
   ]
  },
  {
   "cell_type": "code",
   "execution_count": 31,
   "id": "a6536f60",
   "metadata": {},
   "outputs": [],
   "source": [
    "df = bridge_claims.merge(priorauth, how = 'left', left_on = 'dim_pa_id', right_on = 'dim_pa_id')"
   ]
  },
  {
   "cell_type": "code",
   "execution_count": 12,
   "id": "6a5ee438",
   "metadata": {},
   "outputs": [
    {
     "data": {
      "text/html": [
       "<div>\n",
       "<style scoped>\n",
       "    .dataframe tbody tr th:only-of-type {\n",
       "        vertical-align: middle;\n",
       "    }\n",
       "\n",
       "    .dataframe tbody tr th {\n",
       "        vertical-align: top;\n",
       "    }\n",
       "\n",
       "    .dataframe thead th {\n",
       "        text-align: right;\n",
       "    }\n",
       "</style>\n",
       "<table border=\"1\" class=\"dataframe\">\n",
       "  <thead>\n",
       "    <tr style=\"text-align: right;\">\n",
       "      <th></th>\n",
       "      <th>dim_claim_id</th>\n",
       "      <th>dim_pa_id</th>\n",
       "      <th>dim_date_id</th>\n",
       "      <th>bin</th>\n",
       "      <th>drug</th>\n",
       "      <th>reject_code</th>\n",
       "      <th>pharmacy_claim_approved</th>\n",
       "      <th>correct_diagnosis</th>\n",
       "      <th>tried_and_failed</th>\n",
       "      <th>contraindication</th>\n",
       "      <th>pa_approved</th>\n",
       "    </tr>\n",
       "  </thead>\n",
       "  <tbody>\n",
       "    <tr>\n",
       "      <th>0</th>\n",
       "      <td>1</td>\n",
       "      <td>1.0</td>\n",
       "      <td>1</td>\n",
       "      <td>417380</td>\n",
       "      <td>A</td>\n",
       "      <td>75.0</td>\n",
       "      <td>0</td>\n",
       "      <td>1.0</td>\n",
       "      <td>1.0</td>\n",
       "      <td>0.0</td>\n",
       "      <td>1.0</td>\n",
       "    </tr>\n",
       "    <tr>\n",
       "      <th>1</th>\n",
       "      <td>2</td>\n",
       "      <td>NaN</td>\n",
       "      <td>1</td>\n",
       "      <td>999001</td>\n",
       "      <td>A</td>\n",
       "      <td>NaN</td>\n",
       "      <td>1</td>\n",
       "      <td>NaN</td>\n",
       "      <td>NaN</td>\n",
       "      <td>NaN</td>\n",
       "      <td>NaN</td>\n",
       "    </tr>\n",
       "    <tr>\n",
       "      <th>2</th>\n",
       "      <td>3</td>\n",
       "      <td>2.0</td>\n",
       "      <td>1</td>\n",
       "      <td>417740</td>\n",
       "      <td>A</td>\n",
       "      <td>76.0</td>\n",
       "      <td>0</td>\n",
       "      <td>1.0</td>\n",
       "      <td>0.0</td>\n",
       "      <td>0.0</td>\n",
       "      <td>1.0</td>\n",
       "    </tr>\n",
       "    <tr>\n",
       "      <th>3</th>\n",
       "      <td>4</td>\n",
       "      <td>NaN</td>\n",
       "      <td>1</td>\n",
       "      <td>999001</td>\n",
       "      <td>A</td>\n",
       "      <td>NaN</td>\n",
       "      <td>1</td>\n",
       "      <td>NaN</td>\n",
       "      <td>NaN</td>\n",
       "      <td>NaN</td>\n",
       "      <td>NaN</td>\n",
       "    </tr>\n",
       "    <tr>\n",
       "      <th>4</th>\n",
       "      <td>5</td>\n",
       "      <td>NaN</td>\n",
       "      <td>1</td>\n",
       "      <td>417740</td>\n",
       "      <td>A</td>\n",
       "      <td>NaN</td>\n",
       "      <td>1</td>\n",
       "      <td>NaN</td>\n",
       "      <td>NaN</td>\n",
       "      <td>NaN</td>\n",
       "      <td>NaN</td>\n",
       "    </tr>\n",
       "  </tbody>\n",
       "</table>\n",
       "</div>"
      ],
      "text/plain": [
       "   dim_claim_id  dim_pa_id  dim_date_id     bin drug  reject_code  \\\n",
       "0             1        1.0            1  417380    A         75.0   \n",
       "1             2        NaN            1  999001    A          NaN   \n",
       "2             3        2.0            1  417740    A         76.0   \n",
       "3             4        NaN            1  999001    A          NaN   \n",
       "4             5        NaN            1  417740    A          NaN   \n",
       "\n",
       "   pharmacy_claim_approved  correct_diagnosis  tried_and_failed  \\\n",
       "0                        0                1.0               1.0   \n",
       "1                        1                NaN               NaN   \n",
       "2                        0                1.0               0.0   \n",
       "3                        1                NaN               NaN   \n",
       "4                        1                NaN               NaN   \n",
       "\n",
       "   contraindication  pa_approved  \n",
       "0               0.0          1.0  \n",
       "1               NaN          NaN  \n",
       "2               0.0          1.0  \n",
       "3               NaN          NaN  \n",
       "4               NaN          NaN  "
      ]
     },
     "execution_count": 12,
     "metadata": {},
     "output_type": "execute_result"
    }
   ],
   "source": [
    "df.head()"
   ]
  },
  {
   "cell_type": "code",
   "execution_count": 13,
   "id": "7d1be6d9",
   "metadata": {},
   "outputs": [
    {
     "data": {
      "text/plain": [
       "1.0    408319\n",
       "0.0    147632\n",
       "Name: pa_approved, dtype: int64"
      ]
     },
     "execution_count": 13,
     "metadata": {},
     "output_type": "execute_result"
    }
   ],
   "source": [
    "df['pa_approved'].value_counts()"
   ]
  },
  {
   "cell_type": "code",
   "execution_count": 14,
   "id": "3334f3a7",
   "metadata": {},
   "outputs": [
    {
     "data": {
      "text/plain": [
       "70.0    252206\n",
       "75.0    217351\n",
       "76.0     86394\n",
       "Name: reject_code, dtype: int64"
      ]
     },
     "execution_count": 14,
     "metadata": {},
     "output_type": "execute_result"
    }
   ],
   "source": [
    "df['reject_code'].value_counts()"
   ]
  },
  {
   "cell_type": "code",
   "execution_count": 15,
   "id": "9ee0e7c0",
   "metadata": {},
   "outputs": [
    {
     "data": {
      "text/plain": [
       "999001    640740\n",
       "417614    307323\n",
       "417740    213982\n",
       "417380    173531\n",
       "Name: bin, dtype: int64"
      ]
     },
     "execution_count": 15,
     "metadata": {},
     "output_type": "execute_result"
    }
   ],
   "source": [
    "df['bin'].value_counts()"
   ]
  },
  {
   "cell_type": "code",
   "execution_count": 16,
   "id": "b3453c17",
   "metadata": {},
   "outputs": [],
   "source": [
    "#Row Bais \n",
    "#Sample Selection Bais\n",
    "# Research about case study with model bais due to bais sample out of the populaiton\n",
    "#Correlation bais, Overfitting\n",
    "\n",
    "#Why do economist have the fleibility to pick up dummy datasets?"
   ]
  },
  {
   "cell_type": "code",
   "execution_count": 17,
   "id": "88fe5813",
   "metadata": {},
   "outputs": [],
   "source": [
    "#How to identify random na in rows\n",
    "    # Do a T-test, mean, medians to check the distribution of the null values.\n",
    "    \n",
    "#Find different ways to deal with missing values.\n",
    "#Threshold Drop\n",
    "\n",
    "#Filling by regresssion for time series date because it can go back and predict values as per historical data"
   ]
  },
  {
   "cell_type": "code",
   "execution_count": 18,
   "id": "0cdd937f",
   "metadata": {},
   "outputs": [
    {
     "data": {
      "text/plain": [
       "dim_claim_id                    0\n",
       "dim_pa_id                  779625\n",
       "dim_date_id                     0\n",
       "bin                             0\n",
       "drug                            0\n",
       "reject_code                779625\n",
       "pharmacy_claim_approved         0\n",
       "correct_diagnosis          779625\n",
       "tried_and_failed           779625\n",
       "contraindication           779625\n",
       "pa_approved                779625\n",
       "dtype: int64"
      ]
     },
     "execution_count": 18,
     "metadata": {},
     "output_type": "execute_result"
    }
   ],
   "source": [
    "df.isnull().sum(axis = 0)"
   ]
  },
  {
   "cell_type": "code",
   "execution_count": 19,
   "id": "663cb1e0",
   "metadata": {},
   "outputs": [
    {
     "data": {
      "text/html": [
       "<div>\n",
       "<style scoped>\n",
       "    .dataframe tbody tr th:only-of-type {\n",
       "        vertical-align: middle;\n",
       "    }\n",
       "\n",
       "    .dataframe tbody tr th {\n",
       "        vertical-align: top;\n",
       "    }\n",
       "\n",
       "    .dataframe thead th {\n",
       "        text-align: right;\n",
       "    }\n",
       "</style>\n",
       "<table border=\"1\" class=\"dataframe\">\n",
       "  <thead>\n",
       "    <tr style=\"text-align: right;\">\n",
       "      <th></th>\n",
       "      <th>dim_claim_id</th>\n",
       "      <th>dim_pa_id</th>\n",
       "      <th>dim_date_id</th>\n",
       "      <th>bin</th>\n",
       "      <th>drug</th>\n",
       "      <th>reject_code</th>\n",
       "      <th>pharmacy_claim_approved</th>\n",
       "      <th>correct_diagnosis</th>\n",
       "      <th>tried_and_failed</th>\n",
       "      <th>contraindication</th>\n",
       "      <th>pa_approved</th>\n",
       "    </tr>\n",
       "  </thead>\n",
       "  <tbody>\n",
       "    <tr>\n",
       "      <th>0</th>\n",
       "      <td>1</td>\n",
       "      <td>1.0</td>\n",
       "      <td>1</td>\n",
       "      <td>417380</td>\n",
       "      <td>A</td>\n",
       "      <td>75.0</td>\n",
       "      <td>0</td>\n",
       "      <td>1.0</td>\n",
       "      <td>1.0</td>\n",
       "      <td>0.0</td>\n",
       "      <td>1.0</td>\n",
       "    </tr>\n",
       "    <tr>\n",
       "      <th>1</th>\n",
       "      <td>2</td>\n",
       "      <td>NaN</td>\n",
       "      <td>1</td>\n",
       "      <td>999001</td>\n",
       "      <td>A</td>\n",
       "      <td>NaN</td>\n",
       "      <td>1</td>\n",
       "      <td>NaN</td>\n",
       "      <td>NaN</td>\n",
       "      <td>NaN</td>\n",
       "      <td>NaN</td>\n",
       "    </tr>\n",
       "    <tr>\n",
       "      <th>2</th>\n",
       "      <td>3</td>\n",
       "      <td>2.0</td>\n",
       "      <td>1</td>\n",
       "      <td>417740</td>\n",
       "      <td>A</td>\n",
       "      <td>76.0</td>\n",
       "      <td>0</td>\n",
       "      <td>1.0</td>\n",
       "      <td>0.0</td>\n",
       "      <td>0.0</td>\n",
       "      <td>1.0</td>\n",
       "    </tr>\n",
       "    <tr>\n",
       "      <th>3</th>\n",
       "      <td>4</td>\n",
       "      <td>NaN</td>\n",
       "      <td>1</td>\n",
       "      <td>999001</td>\n",
       "      <td>A</td>\n",
       "      <td>NaN</td>\n",
       "      <td>1</td>\n",
       "      <td>NaN</td>\n",
       "      <td>NaN</td>\n",
       "      <td>NaN</td>\n",
       "      <td>NaN</td>\n",
       "    </tr>\n",
       "    <tr>\n",
       "      <th>4</th>\n",
       "      <td>5</td>\n",
       "      <td>NaN</td>\n",
       "      <td>1</td>\n",
       "      <td>417740</td>\n",
       "      <td>A</td>\n",
       "      <td>NaN</td>\n",
       "      <td>1</td>\n",
       "      <td>NaN</td>\n",
       "      <td>NaN</td>\n",
       "      <td>NaN</td>\n",
       "      <td>NaN</td>\n",
       "    </tr>\n",
       "  </tbody>\n",
       "</table>\n",
       "</div>"
      ],
      "text/plain": [
       "   dim_claim_id  dim_pa_id  dim_date_id     bin drug  reject_code  \\\n",
       "0             1        1.0            1  417380    A         75.0   \n",
       "1             2        NaN            1  999001    A          NaN   \n",
       "2             3        2.0            1  417740    A         76.0   \n",
       "3             4        NaN            1  999001    A          NaN   \n",
       "4             5        NaN            1  417740    A          NaN   \n",
       "\n",
       "   pharmacy_claim_approved  correct_diagnosis  tried_and_failed  \\\n",
       "0                        0                1.0               1.0   \n",
       "1                        1                NaN               NaN   \n",
       "2                        0                1.0               0.0   \n",
       "3                        1                NaN               NaN   \n",
       "4                        1                NaN               NaN   \n",
       "\n",
       "   contraindication  pa_approved  \n",
       "0               0.0          1.0  \n",
       "1               NaN          NaN  \n",
       "2               0.0          1.0  \n",
       "3               NaN          NaN  \n",
       "4               NaN          NaN  "
      ]
     },
     "execution_count": 19,
     "metadata": {},
     "output_type": "execute_result"
    }
   ],
   "source": [
    "df.head()"
   ]
  },
  {
   "cell_type": "code",
   "execution_count": 20,
   "id": "c0fcfa2f",
   "metadata": {},
   "outputs": [],
   "source": [
    "y = df['pa_approved']"
   ]
  },
  {
   "cell_type": "code",
   "execution_count": 34,
   "id": "95e1648e",
   "metadata": {},
   "outputs": [],
   "source": [
    "#df_X = df.drop('pa_approved', axis = 1)\n",
    "\n",
    "df_X_rel = df.drop(['dim_date_id','dim_pa_id','contraindication','drug'], axis = 1)\n"
   ]
  },
  {
   "cell_type": "code",
   "execution_count": 35,
   "id": "88fbbf47",
   "metadata": {
    "scrolled": true
   },
   "outputs": [
    {
     "data": {
      "text/plain": [
       "Index(['dim_claim_id', 'bin', 'reject_code', 'pharmacy_claim_approved',\n",
       "       'correct_diagnosis', 'tried_and_failed', 'pa_approved'],\n",
       "      dtype='object')"
      ]
     },
     "execution_count": 35,
     "metadata": {},
     "output_type": "execute_result"
    }
   ],
   "source": [
    "df_X_rel.columns"
   ]
  },
  {
   "cell_type": "code",
   "execution_count": 37,
   "id": "2abba8a3",
   "metadata": {},
   "outputs": [
    {
     "data": {
      "text/plain": [
       "Int64Index([      0,       1,       2,       3,       4,       5,       6,\n",
       "                  7,       8,       9,\n",
       "            ...\n",
       "            1335566, 1335567, 1335568, 1335569, 1335570, 1335571, 1335572,\n",
       "            1335573, 1335574, 1335575],\n",
       "           dtype='int64', length=1335576)"
      ]
     },
     "execution_count": 37,
     "metadata": {},
     "output_type": "execute_result"
    }
   ],
   "source": [
    "df_X_rel.index"
   ]
  },
  {
   "cell_type": "code",
   "execution_count": 38,
   "id": "22a640bb",
   "metadata": {},
   "outputs": [],
   "source": [
    "# DO Imputer here\n",
    "from sklearn.impute import SimpleImputer\n",
    "imputer = SimpleImputer(strategy=\"most_frequent\")\n",
    "\n",
    "imputer.fit(df_X_rel)\n",
    "\n",
    "X_imp_simple = imputer.transform(df_X_rel)"
   ]
  },
  {
   "cell_type": "code",
   "execution_count": 39,
   "id": "8398e574",
   "metadata": {},
   "outputs": [],
   "source": [
    "df_X_Full = pd.DataFrame(X_imp_simple, columns = df_X_rel.columns, index =  df_X_rel.index)"
   ]
  },
  {
   "cell_type": "code",
   "execution_count": 45,
   "id": "5d7c9006",
   "metadata": {},
   "outputs": [
    {
     "data": {
      "text/plain": [
       "1.0    1187944\n",
       "0.0     147632\n",
       "Name: pa_approved, dtype: int64"
      ]
     },
     "execution_count": 45,
     "metadata": {},
     "output_type": "execute_result"
    }
   ],
   "source": [
    "df_X_Full['pa_approved'].value_counts()"
   ]
  },
  {
   "cell_type": "code",
   "execution_count": 46,
   "id": "df596341",
   "metadata": {},
   "outputs": [
    {
     "data": {
      "text/plain": [
       "999001.0    640740\n",
       "417614.0    307323\n",
       "417740.0    213982\n",
       "417380.0    173531\n",
       "Name: bin, dtype: int64"
      ]
     },
     "execution_count": 46,
     "metadata": {},
     "output_type": "execute_result"
    }
   ],
   "source": [
    "df_X_Full['bin'].value_counts()"
   ]
  },
  {
   "cell_type": "code",
   "execution_count": 47,
   "id": "1c8fb159",
   "metadata": {},
   "outputs": [
    {
     "data": {
      "text/plain": [
       "70.0    1031831\n",
       "75.0     217351\n",
       "76.0      86394\n",
       "Name: reject_code, dtype: int64"
      ]
     },
     "execution_count": 47,
     "metadata": {},
     "output_type": "execute_result"
    }
   ],
   "source": [
    "df_X_Full['reject_code'].value_counts()"
   ]
  },
  {
   "cell_type": "code",
   "execution_count": 48,
   "id": "1fd247c9",
   "metadata": {},
   "outputs": [
    {
     "data": {
      "text/plain": [
       "pa_approved                1.000000\n",
       "pharmacy_claim_approved    0.417462\n",
       "tried_and_failed           0.343864\n",
       "bin                        0.309754\n",
       "correct_diagnosis          0.179512\n",
       "reject_code                0.065106\n",
       "dim_claim_id               0.002205\n",
       "Name: pa_approved, dtype: float64"
      ]
     },
     "execution_count": 48,
     "metadata": {},
     "output_type": "execute_result"
    }
   ],
   "source": [
    "# this is incorrect because convert to numeric and then do correlation\n",
    "#\n",
    "df_sparse = pd.get_dummies(df_X_Full)\n",
    "\n",
    "corr_matrix = df_sparse.corr()\n",
    "\n",
    "corr_matrix['pa_approved'].sort_values(ascending = False)\n",
    "#Then proceed to sparse matrix before converting parsing it on to a model."
   ]
  },
  {
   "cell_type": "code",
   "execution_count": 49,
   "id": "260fc693",
   "metadata": {},
   "outputs": [
    {
     "name": "stdout",
     "output_type": "stream",
     "text": [
      "!\n",
      "!\n",
      "!\n",
      "!\n",
      "!\n"
     ]
    }
   ],
   "source": [
    "from sklearn.model_selection import StratifiedShuffleSplit\n",
    "\n",
    "splits = StratifiedShuffleSplit(n_splits=5, test_size=0.2, random_state=42)\n",
    "\n",
    "for train_index, test_index in splits.split(df_X_Full, df_X_Full['pa_approved']):\n",
    "    print(\"!\")\n",
    "\n",
    "strat_train_set = df_X_Full.iloc[train_index]\n",
    "strat_test_set = df_X_Full.iloc[test_index]"
   ]
  },
  {
   "cell_type": "code",
   "execution_count": 50,
   "id": "e6d59a77",
   "metadata": {},
   "outputs": [],
   "source": [
    "train = strat_train_set.copy()\n",
    "test = strat_test_set.copy()"
   ]
  },
  {
   "cell_type": "code",
   "execution_count": 51,
   "id": "bb0ff933",
   "metadata": {},
   "outputs": [
    {
     "data": {
      "text/plain": [
       "Index(['dim_claim_id', 'bin', 'reject_code', 'pharmacy_claim_approved',\n",
       "       'correct_diagnosis', 'tried_and_failed', 'pa_approved'],\n",
       "      dtype='object')"
      ]
     },
     "execution_count": 51,
     "metadata": {},
     "output_type": "execute_result"
    }
   ],
   "source": [
    "train.columns"
   ]
  },
  {
   "cell_type": "code",
   "execution_count": 53,
   "id": "1d0381f1",
   "metadata": {},
   "outputs": [],
   "source": [
    "train_X = train.drop('pa_approved', axis = 1)\n",
    "test_X = test.drop('pa_approved', axis = 1)\n",
    "\n",
    "train_y = train['pa_approved'].copy()\n",
    "test_y = test['pa_approved'].copy()"
   ]
  },
  {
   "cell_type": "code",
   "execution_count": null,
   "id": "e7afd664",
   "metadata": {},
   "outputs": [],
   "source": [
    "#No normalization or standardization required because its all categorical data"
   ]
  },
  {
   "cell_type": "code",
   "execution_count": 55,
   "id": "876fada5",
   "metadata": {},
   "outputs": [
    {
     "name": "stdout",
     "output_type": "stream",
     "text": [
      "RandomForest R2 =  0.4864942086100573\n"
     ]
    },
    {
     "data": {
      "text/plain": [
       "array([1.        , 1.        , 0.99802424, ..., 1.        , 1.        ,\n",
       "       1.        ])"
      ]
     },
     "execution_count": 55,
     "metadata": {},
     "output_type": "execute_result"
    }
   ],
   "source": [
    "from sklearn.ensemble import RandomForestRegressor\n",
    "\n",
    "forest_reg = RandomForestRegressor(n_estimators=100, \n",
    "                                   random_state =42, \n",
    "                                   max_depth = 20, \n",
    "                                   max_features = 'auto',\n",
    "                                   bootstrap = True,\n",
    "                                   max_samples = 0.9\n",
    "                                  )\n",
    "\n",
    "forest_reg.fit(train_X, train_y)\n",
    "print(\"RandomForest R2 = \", forest_reg.score(train_X, train_y))\n",
    "\n",
    "forest_reg.predict(train_X)"
   ]
  },
  {
   "cell_type": "code",
   "execution_count": 57,
   "id": "e4188e88",
   "metadata": {},
   "outputs": [
    {
     "name": "stdout",
     "output_type": "stream",
     "text": [
      "Collecting xgboost\n",
      "  Downloading xgboost-1.7.4-py3-none-macosx_10_15_x86_64.macosx_11_0_x86_64.macosx_12_0_x86_64.whl (1.8 MB)\n",
      "\u001b[2K     \u001b[90m━━━━━━━━━━━━━━━━━━━━━━━━━━━━━━━━━━━━━━━━\u001b[0m \u001b[32m1.8/1.8 MB\u001b[0m \u001b[31m5.5 MB/s\u001b[0m eta \u001b[36m0:00:00\u001b[0m00:01\u001b[0m00:01\u001b[0m\n",
      "\u001b[?25hRequirement already satisfied: scipy in /opt/anaconda3/lib/python3.9/site-packages (from xgboost) (1.7.3)\n",
      "Requirement already satisfied: numpy in /opt/anaconda3/lib/python3.9/site-packages (from xgboost) (1.21.5)\n",
      "Installing collected packages: xgboost\n",
      "Successfully installed xgboost-1.7.4\n",
      "Note: you may need to restart the kernel to use updated packages.\n"
     ]
    }
   ],
   "source": [
    "pip install xgboost"
   ]
  },
  {
   "cell_type": "code",
   "execution_count": 59,
   "id": "1a8ada38",
   "metadata": {},
   "outputs": [],
   "source": [
    "import xgboost as xgb\n",
    "\n",
    "clf = xgb.XGBClassifier()\n",
    "\n",
    "# train the classifier on the training data\n",
    "clf.fit(train_X, train_y)\n",
    "\n",
    "pred_y = clf.predict(train_X)"
   ]
  },
  {
   "cell_type": "code",
   "execution_count": 60,
   "id": "6f38cd47",
   "metadata": {},
   "outputs": [
    {
     "data": {
      "text/plain": [
       "0.9133444396608202"
      ]
     },
     "execution_count": 60,
     "metadata": {},
     "output_type": "execute_result"
    }
   ],
   "source": [
    "from sklearn.metrics import accuracy_score\n",
    "\n",
    "accuracy_score(train_y, pred_y)"
   ]
  },
  {
   "cell_type": "code",
   "execution_count": null,
   "id": "e31f2286",
   "metadata": {},
   "outputs": [],
   "source": []
  }
 ],
 "metadata": {
  "kernelspec": {
   "display_name": "Python 3 (ipykernel)",
   "language": "python",
   "name": "python3"
  },
  "language_info": {
   "codemirror_mode": {
    "name": "ipython",
    "version": 3
   },
   "file_extension": ".py",
   "mimetype": "text/x-python",
   "name": "python",
   "nbconvert_exporter": "python",
   "pygments_lexer": "ipython3",
   "version": "3.9.15"
  }
 },
 "nbformat": 4,
 "nbformat_minor": 5
}
